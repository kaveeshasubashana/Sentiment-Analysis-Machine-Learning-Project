{
 "cells": [
  {
   "cell_type": "code",
   "execution_count": 1,
   "id": "a0b7674f-090a-4d2f-b27f-7a84c554a0d7",
   "metadata": {},
   "outputs": [],
   "source": [
    "import numpy as np"
   ]
  },
  {
   "cell_type": "code",
   "execution_count": 3,
   "id": "203d618e-1224-445c-abaa-e5633a8a6912",
   "metadata": {},
   "outputs": [],
   "source": [
    "import json\n",
    "with open('../assets/kaggle.json','r')as file:\n",
    "    data=json.load(file)"
   ]
  },
  {
   "cell_type": "code",
   "execution_count": 4,
   "id": "6eeb9d45-dd74-496b-a0be-713ac74fc38c",
   "metadata": {},
   "outputs": [
    {
     "data": {
      "text/plain": [
       "{'username': 'kaveeshasubashana', 'key': 'c90db4759c6313afb95809d529c0f2ff'}"
      ]
     },
     "execution_count": 4,
     "metadata": {},
     "output_type": "execute_result"
    }
   ],
   "source": [
    "data"
   ]
  },
  {
   "cell_type": "code",
   "execution_count": 5,
   "id": "b89fdc2c-b368-46c8-b78c-224d0dcc741e",
   "metadata": {},
   "outputs": [
    {
     "name": "stdout",
     "output_type": "stream",
     "text": [
      "Collecting kaggle\n",
      "  Downloading kaggle-1.7.4.5-py3-none-any.whl.metadata (16 kB)\n",
      "Requirement already satisfied: bleach in c:\\users\\user\\desktop\\sentiment-analysis-machine-learning-project\\env\\lib\\site-packages (from kaggle) (6.2.0)\n",
      "Requirement already satisfied: certifi>=14.05.14 in c:\\users\\user\\desktop\\sentiment-analysis-machine-learning-project\\env\\lib\\site-packages (from kaggle) (2025.10.5)\n",
      "Requirement already satisfied: charset-normalizer in c:\\users\\user\\desktop\\sentiment-analysis-machine-learning-project\\env\\lib\\site-packages (from kaggle) (3.4.4)\n",
      "Requirement already satisfied: idna in c:\\users\\user\\desktop\\sentiment-analysis-machine-learning-project\\env\\lib\\site-packages (from kaggle) (3.11)\n",
      "Collecting protobuf (from kaggle)\n",
      "  Downloading protobuf-6.33.0-cp310-abi3-win_amd64.whl.metadata (593 bytes)\n",
      "Requirement already satisfied: python-dateutil>=2.5.3 in c:\\users\\user\\desktop\\sentiment-analysis-machine-learning-project\\env\\lib\\site-packages (from kaggle) (2.9.0.post0)\n",
      "Collecting python-slugify (from kaggle)\n",
      "  Downloading python_slugify-8.0.4-py2.py3-none-any.whl.metadata (8.5 kB)\n",
      "Requirement already satisfied: requests in c:\\users\\user\\desktop\\sentiment-analysis-machine-learning-project\\env\\lib\\site-packages (from kaggle) (2.32.5)\n",
      "Requirement already satisfied: setuptools>=21.0.0 in c:\\users\\user\\desktop\\sentiment-analysis-machine-learning-project\\env\\lib\\site-packages (from kaggle) (80.9.0)\n",
      "Requirement already satisfied: six>=1.10 in c:\\users\\user\\desktop\\sentiment-analysis-machine-learning-project\\env\\lib\\site-packages (from kaggle) (1.17.0)\n",
      "Collecting text-unidecode (from kaggle)\n",
      "  Downloading text_unidecode-1.3-py2.py3-none-any.whl.metadata (2.4 kB)\n",
      "Collecting tqdm (from kaggle)\n",
      "  Downloading tqdm-4.67.1-py3-none-any.whl.metadata (57 kB)\n",
      "Requirement already satisfied: urllib3>=1.15.1 in c:\\users\\user\\desktop\\sentiment-analysis-machine-learning-project\\env\\lib\\site-packages (from kaggle) (2.5.0)\n",
      "Requirement already satisfied: webencodings in c:\\users\\user\\desktop\\sentiment-analysis-machine-learning-project\\env\\lib\\site-packages (from kaggle) (0.5.1)\n",
      "Requirement already satisfied: colorama in c:\\users\\user\\desktop\\sentiment-analysis-machine-learning-project\\env\\lib\\site-packages (from tqdm->kaggle) (0.4.6)\n",
      "Downloading kaggle-1.7.4.5-py3-none-any.whl (181 kB)\n",
      "Downloading protobuf-6.33.0-cp310-abi3-win_amd64.whl (436 kB)\n",
      "Downloading python_slugify-8.0.4-py2.py3-none-any.whl (10 kB)\n",
      "Downloading text_unidecode-1.3-py2.py3-none-any.whl (78 kB)\n",
      "Downloading tqdm-4.67.1-py3-none-any.whl (78 kB)\n",
      "Installing collected packages: text-unidecode, tqdm, python-slugify, protobuf, kaggle\n",
      "\n",
      "   -------- ------------------------------- 1/5 [tqdm]\n",
      "   -------- ------------------------------- 1/5 [tqdm]\n",
      "   -------- ------------------------------- 1/5 [tqdm]\n",
      "   -------- ------------------------------- 1/5 [tqdm]\n",
      "   -------- ------------------------------- 1/5 [tqdm]\n",
      "   -------- ------------------------------- 1/5 [tqdm]\n",
      "   -------- ------------------------------- 1/5 [tqdm]\n",
      "   ---------------- ----------------------- 2/5 [python-slugify]\n",
      "   ---------------- ----------------------- 2/5 [python-slugify]\n",
      "   ------------------------ --------------- 3/5 [protobuf]\n",
      "   ------------------------ --------------- 3/5 [protobuf]\n",
      "   ------------------------ --------------- 3/5 [protobuf]\n",
      "   ------------------------ --------------- 3/5 [protobuf]\n",
      "   ------------------------ --------------- 3/5 [protobuf]\n",
      "   ------------------------ --------------- 3/5 [protobuf]\n",
      "   ------------------------ --------------- 3/5 [protobuf]\n",
      "   ------------------------ --------------- 3/5 [protobuf]\n",
      "   ------------------------ --------------- 3/5 [protobuf]\n",
      "   ------------------------ --------------- 3/5 [protobuf]\n",
      "   ------------------------ --------------- 3/5 [protobuf]\n",
      "   ------------------------ --------------- 3/5 [protobuf]\n",
      "   ------------------------ --------------- 3/5 [protobuf]\n",
      "   ------------------------ --------------- 3/5 [protobuf]\n",
      "   -------------------------------- ------- 4/5 [kaggle]\n",
      "   -------------------------------- ------- 4/5 [kaggle]\n",
      "   -------------------------------- ------- 4/5 [kaggle]\n",
      "   -------------------------------- ------- 4/5 [kaggle]\n",
      "   -------------------------------- ------- 4/5 [kaggle]\n",
      "   -------------------------------- ------- 4/5 [kaggle]\n",
      "   -------------------------------- ------- 4/5 [kaggle]\n",
      "   -------------------------------- ------- 4/5 [kaggle]\n",
      "   -------------------------------- ------- 4/5 [kaggle]\n",
      "   -------------------------------- ------- 4/5 [kaggle]\n",
      "   -------------------------------- ------- 4/5 [kaggle]\n",
      "   -------------------------------- ------- 4/5 [kaggle]\n",
      "   -------------------------------- ------- 4/5 [kaggle]\n",
      "   ---------------------------------------- 5/5 [kaggle]\n",
      "\n",
      "Successfully installed kaggle-1.7.4.5 protobuf-6.33.0 python-slugify-8.0.4 text-unidecode-1.3 tqdm-4.67.1\n"
     ]
    }
   ],
   "source": [
    "!pip install kaggle"
   ]
  },
  {
   "cell_type": "code",
   "execution_count": 7,
   "id": "53456c81-ef37-4850-870c-9cf99f220755",
   "metadata": {},
   "outputs": [],
   "source": [
    "import os\n",
    "os.environ['KAGGLE_USERNAME']= data['username']\n",
    "os.environ['KAGGLE_KEY']= data['key']"
   ]
  },
  {
   "cell_type": "code",
   "execution_count": 8,
   "id": "2458e98f-a0f4-41df-869d-a594c5613000",
   "metadata": {},
   "outputs": [],
   "source": [
    "from kaggle.api.kaggle_api_extended import KaggleApi\n",
    "api=KaggleApi()\n",
    "api.authenticate()"
   ]
  },
  {
   "cell_type": "code",
   "execution_count": 10,
   "id": "9789d2fb-f090-470a-a998-4084f0662a9c",
   "metadata": {},
   "outputs": [
    {
     "name": "stdout",
     "output_type": "stream",
     "text": [
      "Dataset URL: https://www.kaggle.com/datasets/dineshpiyasamara/sentiment-analysis-dataset\n"
     ]
    }
   ],
   "source": [
    "api.dataset_download_files('dineshpiyasamara/sentiment-analysis-dataset',path='../assets')"
   ]
  },
  {
   "cell_type": "code",
   "execution_count": 11,
   "id": "b98974ec-6a1e-4128-b8c1-2a56a8760519",
   "metadata": {},
   "outputs": [],
   "source": [
    "import zipfile\n",
    "with zipfile.ZipFile('../assets/sentiment-analysis-dataset.zip','r') as zip_ref:\n",
    "    zip_ref.extractall('../assets/')"
   ]
  },
  {
   "cell_type": "code",
   "execution_count": null,
   "id": "6022bd32-e88c-4378-9218-08e8831d01d6",
   "metadata": {},
   "outputs": [],
   "source": []
  }
 ],
 "metadata": {
  "kernelspec": {
   "display_name": "Python 3 (ipykernel)",
   "language": "python",
   "name": "python3"
  },
  "language_info": {
   "codemirror_mode": {
    "name": "ipython",
    "version": 3
   },
   "file_extension": ".py",
   "mimetype": "text/x-python",
   "name": "python",
   "nbconvert_exporter": "python",
   "pygments_lexer": "ipython3",
   "version": "3.13.7"
  }
 },
 "nbformat": 4,
 "nbformat_minor": 5
}
